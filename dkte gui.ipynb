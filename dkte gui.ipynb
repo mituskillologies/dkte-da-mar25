{
 "cells": [
  {
   "cell_type": "code",
   "execution_count": 1,
   "id": "721d6a04-7fe1-4a71-a187-563d690705ad",
   "metadata": {},
   "outputs": [
    {
     "ename": "NameError",
     "evalue": "name 'show' is not defined",
     "output_type": "error",
     "traceback": [
      "\u001b[0;31m---------------------------------------------------------------------------\u001b[0m",
      "\u001b[0;31mNameError\u001b[0m                                 Traceback (most recent call last)",
      "Cell \u001b[0;32mIn[1], line 1\u001b[0m\n\u001b[0;32m----> 1\u001b[0m show()\n",
      "\u001b[0;31mNameError\u001b[0m: name 'show' is not defined"
     ]
    }
   ],
   "source": [
    "show()"
   ]
  },
  {
   "cell_type": "code",
   "execution_count": 2,
   "id": "251f65a7-3141-46ac-8bb1-ad3756bd7745",
   "metadata": {},
   "outputs": [],
   "source": [
    "import mod111 as m"
   ]
  },
  {
   "cell_type": "code",
   "execution_count": 3,
   "id": "88c677b5-9173-46e9-ad48-a5e703717d0e",
   "metadata": {},
   "outputs": [
    {
     "name": "stdout",
     "output_type": "stream",
     "text": [
      "hello\n",
      "ok\n",
      "bye\n"
     ]
    }
   ],
   "source": [
    "m.show()"
   ]
  },
  {
   "cell_type": "markdown",
   "id": "1aee584c-9437-477f-89cb-816c5c753405",
   "metadata": {},
   "source": [
    "# Objects and Classes"
   ]
  },
  {
   "cell_type": "code",
   "execution_count": 21,
   "id": "176010cb-b0af-4106-8c10-2cb78c814a78",
   "metadata": {},
   "outputs": [],
   "source": [
    "class Employee():\n",
    "\n",
    "    def __init__ (self, age, name, salary):\n",
    "        self.age = age\n",
    "        self.name = name\n",
    "        self.__salary = salary # private variable\n",
    "\n",
    "    def yearly_sal(self):\n",
    "        yr_sal = self.salary * 12\n",
    "        return yr_sal"
   ]
  },
  {
   "cell_type": "code",
   "execution_count": 23,
   "id": "b6625809-3393-4e07-966d-23feec7a3075",
   "metadata": {},
   "outputs": [],
   "source": [
    "emp1 = Employee(27, \"Akash\", 67000)"
   ]
  },
  {
   "cell_type": "code",
   "execution_count": 25,
   "id": "bfa5da5d-d730-4a7e-95c5-e6fd5d1a2654",
   "metadata": {},
   "outputs": [],
   "source": [
    "emp2 = Employee(28, \"Rohan\", 70000)"
   ]
  },
  {
   "cell_type": "code",
   "execution_count": 17,
   "id": "0663d11b-85a9-4a49-b080-2459330522f5",
   "metadata": {},
   "outputs": [
    {
     "data": {
      "text/plain": [
       "840000"
      ]
     },
     "execution_count": 17,
     "metadata": {},
     "output_type": "execute_result"
    }
   ],
   "source": [
    "emp2.yearly_sal()"
   ]
  },
  {
   "cell_type": "code",
   "execution_count": 27,
   "id": "627c5e59-f410-4a1f-9c86-6b62697e85a0",
   "metadata": {},
   "outputs": [
    {
     "ename": "AttributeError",
     "evalue": "'Employee' object has no attribute 'salary'",
     "output_type": "error",
     "traceback": [
      "\u001b[0;31m---------------------------------------------------------------------------\u001b[0m",
      "\u001b[0;31mAttributeError\u001b[0m                            Traceback (most recent call last)",
      "Cell \u001b[0;32mIn[27], line 1\u001b[0m\n\u001b[0;32m----> 1\u001b[0m emp1\u001b[38;5;241m.\u001b[39msalary\n",
      "\u001b[0;31mAttributeError\u001b[0m: 'Employee' object has no attribute 'salary'"
     ]
    }
   ],
   "source": [
    "emp1.salary"
   ]
  },
  {
   "cell_type": "code",
   "execution_count": 29,
   "id": "55d5ff4c-d5ce-4fce-b1a4-3b56ad4270ed",
   "metadata": {},
   "outputs": [],
   "source": [
    "class Employee():\n",
    "    pass"
   ]
  },
  {
   "cell_type": "code",
   "execution_count": 31,
   "id": "96e3a4bf-5e9e-47c9-bc4f-4065b027a5fb",
   "metadata": {},
   "outputs": [],
   "source": [
    "emp1 = Employee()"
   ]
  },
  {
   "cell_type": "code",
   "execution_count": 33,
   "id": "00840912-34d2-448f-b245-9eb36e53dbb5",
   "metadata": {},
   "outputs": [],
   "source": [
    "emp2 = Employee()"
   ]
  },
  {
   "cell_type": "code",
   "execution_count": 35,
   "id": "0df81629-6ee6-4957-9ed3-98074147e78d",
   "metadata": {},
   "outputs": [
    {
     "name": "stdout",
     "output_type": "stream",
     "text": [
      "<__main__.Employee object at 0x7497d1926150>\n",
      "<__main__.Employee object at 0x7497d1798c20>\n"
     ]
    }
   ],
   "source": [
    "print(emp1)\n",
    "print(emp2)"
   ]
  },
  {
   "cell_type": "code",
   "execution_count": 37,
   "id": "5e89b1d6-595c-4b91-8da0-7940d5cdfeda",
   "metadata": {},
   "outputs": [],
   "source": [
    "emp1.age = 27\n",
    "emp1.name = \"Riya\"\n",
    "emp1.salary = 80000"
   ]
  },
  {
   "cell_type": "code",
   "execution_count": 39,
   "id": "fe373e18-8258-47c7-8cf2-5d9ed069bed8",
   "metadata": {},
   "outputs": [],
   "source": [
    "emp2.age = 28\n",
    "emp2.name = \"Raj\"\n",
    "emp2.salary = 70000"
   ]
  },
  {
   "cell_type": "code",
   "execution_count": 41,
   "id": "b39cf356-97fb-4fc3-aeb2-c94126a591c8",
   "metadata": {},
   "outputs": [
    {
     "name": "stdout",
     "output_type": "stream",
     "text": [
      "Riya\n"
     ]
    }
   ],
   "source": [
    "print(emp1.name)"
   ]
  },
  {
   "cell_type": "code",
   "execution_count": 43,
   "id": "46e008df-fbad-4c3d-9a44-b59b28bbe5d5",
   "metadata": {},
   "outputs": [],
   "source": [
    "class Employee1():\n",
    "\n",
    "    def __init__ (self, age, name, salary):\n",
    "        self.age = age\n",
    "        self.name = name\n",
    "        self.__salary = salary # private variable\n",
    "\n",
    "    def yearly_sal(self):\n",
    "        yr_sal = self.salary * 12\n",
    "        return yr_sal"
   ]
  },
  {
   "cell_type": "code",
   "execution_count": null,
   "id": "7452e0c6-0339-4ecd-8fc8-7cbc50e0e4f7",
   "metadata": {},
   "outputs": [],
   "source": [
    "emp1 = Employee1(26, \"Aryan\", 50000)"
   ]
  },
  {
   "cell_type": "code",
   "execution_count": null,
   "id": "6e875200-6d52-466b-87dc-cba698b24a27",
   "metadata": {},
   "outputs": [],
   "source": [
    "emp1.age = 27\n",
    "emp1.name = \"Riya\"\n",
    "emp1.salary = 80000"
   ]
  },
  {
   "cell_type": "markdown",
   "id": "354cb7b4-ab37-48c4-a305-636ef7e13f6a",
   "metadata": {},
   "source": [
    "# Tkinter"
   ]
  },
  {
   "cell_type": "code",
   "execution_count": 46,
   "id": "2a3cb77e-12b9-4610-a885-550a1240c934",
   "metadata": {},
   "outputs": [],
   "source": [
    "from tkinter import *"
   ]
  },
  {
   "cell_type": "code",
   "execution_count": 74,
   "id": "6e046b22-5980-4469-abfa-a4e45f1cee5b",
   "metadata": {},
   "outputs": [],
   "source": [
    "top = Tk()\n",
    "\n",
    "top.geometry(\"700x900\")\n",
    "top.title(\"My app\")\n",
    "\n",
    "a = IntVar()\n",
    "\n",
    "def sq():\n",
    "    res = a.get() ** 2\n",
    "    Label(top, text = f\"square is {res}\").place(x = 200, y = 350)\n",
    "\n",
    "\n",
    "l = Label(top, text = \"INPUT\").place(x = 100, y= 150)\n",
    "e = Entry(top, textvariable = a).place(x = 200, y = 150)\n",
    "b = Button(top, text = \"click me\", command = sq, bg = \"yellow\").place(x = 200, y = 250)\n",
    "\n",
    "top.mainloop()"
   ]
  },
  {
   "cell_type": "code",
   "execution_count": null,
   "id": "737b2d76-8f57-4dc2-a344-e29e14c81f03",
   "metadata": {},
   "outputs": [],
   "source": []
  }
 ],
 "metadata": {
  "kernelspec": {
   "display_name": "Python 3 (ipykernel)",
   "language": "python",
   "name": "python3"
  },
  "language_info": {
   "codemirror_mode": {
    "name": "ipython",
    "version": 3
   },
   "file_extension": ".py",
   "mimetype": "text/x-python",
   "name": "python",
   "nbconvert_exporter": "python",
   "pygments_lexer": "ipython3",
   "version": "3.12.4"
  }
 },
 "nbformat": 4,
 "nbformat_minor": 5
}
